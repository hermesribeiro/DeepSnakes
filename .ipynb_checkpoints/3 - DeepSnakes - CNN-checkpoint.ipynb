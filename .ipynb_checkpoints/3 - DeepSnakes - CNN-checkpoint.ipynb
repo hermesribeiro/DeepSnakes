{
 "cells": [
  {
   "cell_type": "markdown",
   "metadata": {
    "colab_type": "text",
    "id": "yWCiggNd_h_f"
   },
   "source": [
    "# Deep Snakes\n",
    "by Hermes, Channel and Jeanne. Rio de Janeiro, Brazil, 2018.\n",
    "\n",
    "## Welcome to project Deep Snakes\n",
    "\n",
    "In this series, we will try different machine learning approaches to identify two classes of snakes; python snakes (family pythonidae) and rattlesnakes (genera crotalus and sistrurus)."
   ]
  },
  {
   "cell_type": "markdown",
   "metadata": {
    "colab_type": "text",
    "id": "D66nXmaf_m_Q"
   },
   "source": [
    "## Convolutional Neural Networks\n",
    "In the previous notebook, we developed and tuned a shallow neural network, finishing with an error analysis, showing that most errors had no apparend causes. In this notebook, we will try to address this issues by building a deeper architecture."
   ]
  },
  {
   "cell_type": "markdown",
   "metadata": {
    "colab_type": "text",
    "id": "v2YrSUAu_qty"
   },
   "source": [
    "## Loading the dataset\n"
   ]
  },
  {
   "cell_type": "code",
   "execution_count": 1,
   "metadata": {
    "colab": {
     "autoexec": {
      "startup": false,
      "wait_interval": 0
     },
     "base_uri": "https://localhost:8080/",
     "height": 363
    },
    "colab_type": "code",
    "collapsed": true,
    "executionInfo": {
     "elapsed": 704,
     "status": "error",
     "timestamp": 1526604174353,
     "user": {
      "displayName": "Hermes Ribeiro Sant' Anna",
      "photoUrl": "//lh4.googleusercontent.com/-koFV274CtUI/AAAAAAAAAAI/AAAAAAAABZQ/cj9uOoWg1lQ/s50-c-k-no/photo.jpg",
      "userId": "107730963675482581712"
     },
     "user_tz": 180
    },
    "id": "m2ue5xaa_r2X",
    "outputId": "7c9dbedd-13f0-4a70-a0f3-f01cdc88680c"
   },
   "outputs": [],
   "source": [
    "import numpy as np\n",
    "import h5py as h5\n",
    "import tensorflow as tf\n",
    "from supporting_functions import snake_data\n",
    "from matplotlib import pyplot as plt\n",
    "%matplotlib inline"
   ]
  },
  {
   "cell_type": "code",
   "execution_count": 2,
   "metadata": {
    "colab": {
     "autoexec": {
      "startup": false,
      "wait_interval": 0
     },
     "base_uri": "https://localhost:8080/",
     "height": 101
    },
    "colab_type": "code",
    "executionInfo": {
     "elapsed": 548,
     "status": "ok",
     "timestamp": 1526579723555,
     "user": {
      "displayName": "Hermes Ribeiro Sant' Anna",
      "photoUrl": "//lh4.googleusercontent.com/-koFV274CtUI/AAAAAAAAAAI/AAAAAAAABZQ/cj9uOoWg1lQ/s50-c-k-no/photo.jpg",
      "userId": "107730963675482581712"
     },
     "user_tz": 180
    },
    "id": "Mnwm5S0DPXbz",
    "outputId": "819dac35-8908-4753-a48f-d395d267af76"
   },
   "outputs": [
    {
     "name": "stdout",
     "output_type": "stream",
     "text": [
      "Shapes\n",
      "Images train: (484, 128, 128, 3)\n",
      "Labels train: (484,)\n",
      "Images dev: (121, 128, 128, 3)\n",
      "Labels dev: (121,)\n"
     ]
    }
   ],
   "source": [
    "images_train_orig, labels_train_orig, images_dev_orig, labels_dev_orig = snake_data()\n",
    "print(\"Shapes\")\n",
    "print(\"Images train:\", images_train_orig.shape)\n",
    "print(\"Labels train:\", labels_train_orig.shape)\n",
    "print(\"Images dev:\", images_dev_orig.shape)\n",
    "print(\"Labels dev:\", labels_dev_orig.shape)"
   ]
  },
  {
   "cell_type": "markdown",
   "metadata": {
    "colab_type": "text",
    "id": "-bZDVM6B_yUV"
   },
   "source": [
    "This time we don't need to linearize the dataset, we will only normalize it and set the vector dimensions straight."
   ]
  },
  {
   "cell_type": "code",
   "execution_count": 3,
   "metadata": {
    "colab": {
     "autoexec": {
      "startup": false,
      "wait_interval": 0
     },
     "base_uri": "https://localhost:8080/",
     "height": 101
    },
    "colab_type": "code",
    "executionInfo": {
     "elapsed": 636,
     "status": "ok",
     "timestamp": 1526580013463,
     "user": {
      "displayName": "Hermes Ribeiro Sant' Anna",
      "photoUrl": "//lh4.googleusercontent.com/-koFV274CtUI/AAAAAAAAAAI/AAAAAAAABZQ/cj9uOoWg1lQ/s50-c-k-no/photo.jpg",
      "userId": "107730963675482581712"
     },
     "user_tz": 180
    },
    "id": "72jzB6FbLf6a",
    "outputId": "69e57e51-87e0-4ead-dc2a-3a7dff47575c"
   },
   "outputs": [
    {
     "name": "stdout",
     "output_type": "stream",
     "text": [
      "Shapes\n",
      "Images train: (484, 128, 128, 3)\n",
      "Labels train: (484, 1)\n",
      "Images dev: (121, 128, 128, 3)\n",
      "Labels dev: (121, 1)\n"
     ]
    }
   ],
   "source": [
    "images_train = images_train_orig/255\n",
    "labels_train = (labels_train_orig).reshape(-1,1)\n",
    "images_dev = images_dev_orig/255\n",
    "labels_dev = (labels_dev_orig).reshape(-1,1)\n",
    "imsize = images_train.shape[1:3] # image_shape\n",
    "dsize = images_train.shape[0] # amount of images\n",
    "dsize_dev = images_dev.shape[0] # amount of dev images\n",
    "print(\"Shapes\")\n",
    "print(\"Images train:\", images_train.shape)\n",
    "print(\"Labels train:\", labels_train.shape)\n",
    "print(\"Images dev:\", images_dev.shape)\n",
    "print(\"Labels dev:\", labels_dev.shape)"
   ]
  },
  {
   "cell_type": "markdown",
   "metadata": {
    "colab_type": "text",
    "id": "_RPDWqb0Q8jx"
   },
   "source": [
    "## Building the model\n",
    "### Convolutional Neural Networks\n",
    "Convolutional Neural Networks (CNN) are made by (as the name suggests), convolutional layers.  The first operation is convolving the image with filters in order to generate a 3D affine transformation matrix, followed by an activation function to compute an activation matrix. Optinionally,  these layers ends with a pooling operation to reduce the matrix size along the first two axes. Using a sequence of convolutional layers  has the incredible advantage of exponencially increasing the NN's expressive power, which brings about two major advantages: less parameters and better accuracy, compared to a shalow (but wide) fully connected model.\n",
    "\n",
    "Typically, as we go deeper into the model architecture, the height and width of the activation matrix decreases while the lenght increases. The last layer is usually a 1D flattened layer. So, we will start with two layers, followed by a fully connected layer and increase the model's complexity as needed."
   ]
  },
  {
   "cell_type": "code",
   "execution_count": 11,
   "metadata": {
    "colab": {
     "autoexec": {
      "startup": false,
      "wait_interval": 0
     }
    },
    "colab_type": "code",
    "collapsed": true,
    "id": "Te0etsI0Tw73"
   },
   "outputs": [],
   "source": [
    "def model_builder(cparams,hparams):\n",
    "    # Builds the models placeholders for inputs and outputs, parameter variables and feed forward computation graph.\n",
    "    # Argument: cparams - constant params, meaning, input/output dimensions.\n",
    "    #           hparams - hyperparameters, meaning, hyperparameters. All of them.\n",
    "    # Returns: tf objects regarding X, Y, logits and costs. Will handle weights on the next fcn.\n",
    "    #\n",
    "    # getting win, hin, nout (inputs width and height, output # of classes)\n",
    "    win = cparams[\"win\"]\n",
    "    hin = cparams[\"hin\"]\n",
    "    nout = cparams[\"nout\"]\n",
    "    # getting f1,c1,f2,c2. Stride on filters will be 1 for what it's worth\n",
    "    f1 = hparams[\"f1\"] # filter size of conv 1\n",
    "    c1 = hparams[\"c1\"] # num channels(filters) conv 1\n",
    "    f2 = hparams[\"f2\"] # there are 2 typoe of people in the world\n",
    "    c2 = hparams[\"c2\"] # those who can extrapolate from incomplete information.\n",
    "    # getting p1, sp2 (pooling layers sizes, will consider size=stride)\n",
    "    p1 = hparams[\"p1\"]\n",
    "    p2 = hparams[\"p2\"]\n",
    "    # planting the seed\n",
    "    tf.set_random_seed(2001) # a space odissey\n",
    "    # creating placeholders\n",
    "    X = tf.placeholder(dtype=tf.float32,shape=[None,win,hin,3],name=\"X\")\n",
    "    Y = tf.placeholder(dtype=tf.float32,shape=[None,nout],name=\"Y\")\n",
    "    # first layer\n",
    "    conv_1 = tf.layers.conv2d(X,kernel_size=f1,filters=c1,name=\"conv_1\",padding=\"SAME\")\n",
    "    act_1 = tf.nn.relu(conv_1)\n",
    "    pool_1 = tf.layers.max_pooling2d(act_1,pool_size=p1,strides=p1)\n",
    "    # second layer\n",
    "    conv_2 = tf.layers.conv2d(pool_1,kernel_size=f2,filters=c2,name=\"conv_2\",padding=\"SAME\")\n",
    "    act_2 = tf.nn.relu(conv_2)\n",
    "    pool_2 = tf.layers.max_pooling2d(act_2,pool_size=p2,strides=p2)\n",
    "    # flatten\n",
    "    flat = tf.layers.flatten(pool_2)\n",
    "    # logits (activation is already None, brilliant!)\n",
    "    logits = tf.layers.dense(flat,nout,name=\"logits\")\n",
    "    # cost\n",
    "    cost = tf.reduce_mean(tf.nn.sigmoid_cross_entropy_with_logits(logits=logits, labels=Y))\n",
    "    # If we need the parameter values later, we will return it. For now, let's do all things within TemsorFlow\n",
    "    return X, Y,logits, cost"
   ]
  },
  {
   "cell_type": "markdown",
   "metadata": {
    "collapsed": true
   },
   "source": [
    "Training the model. For minibatch split, we will try a different approach. Previously, when the number of samples was not divisible by the (mini)batch size, we split the data into n chunks, where n-1 were equally sized and the last one contained the remaining data. Now, we will use numpy `array_split`:\n",
    ">For an array of length l that should be split into n sections, it returns l % n sub-arrays of size l//n + 1 and the rest of size l//n.\n",
    "\n",
    "Therefore, `batch_size` will no longer be constant, but bounded below by its value and upper bounded by `batch_size+1`. This may bring about some computational efficiency issue, but will minimize some effect cused by the last mini_batch being smaller than the rest."
   ]
  },
  {
   "cell_type": "code",
   "execution_count": 14,
   "metadata": {
    "collapsed": true
   },
   "outputs": [],
   "source": [
    "def model_trainer(hparams, \n",
    "                  images_train = images_train, # Problematic if used incorrectly.\n",
    "                  labels_train = labels_train, # watch out!\n",
    "                  images_dev = images_dev, \n",
    "                  labels_dev = labels_dev, \n",
    "                  print_every=5):\n",
    "    # Since CNN has a ton of hyperparameters, there will be no default value.\n",
    "    tf.set_random_seed(42) # the answer to life the universe and everything\n",
    "    np.random.seed(42) # Is this a valid turing test question tho? \n",
    "    # number of train and dev samples\n",
    "    n_train = images_train.shape[0]\n",
    "    n_dev = images_dev.shape[0]\n",
    "    # Retrieving hyperparameters\n",
    "    epochs = hparams[\"epochs\"]\n",
    "    learning_rate = hparams[\"learning_rate\"]\n",
    "    batch_size = hparams[\"batch_size\"]\n",
    "    num_batches = n_train//batch_size\n",
    "    # determining cparams\n",
    "    cparams = {\"hin\":images_train.shape[1], \n",
    "               \"win\":images_train.shape[2], \n",
    "               \"nout\":labels_train.shape[1]}\n",
    "    # building the model\n",
    "    X,Y,logits,cost = model_builder(cparams,hparams)\n",
    "    # bulding the floppy disc icon\n",
    "    saver = tf.train.Saver(max_to_keep = 1)\n",
    "    # defining the optimizer\n",
    "    optimizer = tf.train.AdamOptimizer(learning_rate).minimize(cost)\n",
    "    # I'm sessy and I know it!\n",
    "    with tf.Session() as sess: \n",
    "        # Performance variables container\n",
    "        costs_train = []\n",
    "        costs_dev = []\n",
    "        cost_dev_best = float(\"inf\")\n",
    "        # indices\n",
    "        indices = np.arange(n_train) \n",
    "        # note to self: don't use n or m, use explicit names. Almost screwed everything up.\n",
    "        # Starting the global variables\n",
    "        init = tf.global_variables_initializer()\n",
    "        sess.run(init)        \n",
    "        for epoch in range(epochs+1): # epochs+1 to facilitate print_every\n",
    "            # everyday I'm shufflin\n",
    "            indices = np.random.permutation(indices)\n",
    "            splits = np.array_split(indices,num_batches)\n",
    "            cost_train = 0.\n",
    "            # running mini batches\n",
    "            for split in splits:\n",
    "                _,temp_cost = sess.run([optimizer,cost],feed_dict={X:images_train[split],Y:labels_train[split]})\n",
    "                cost_train += temp_cost/num_batches\n",
    "            # storing train cost\n",
    "            costs_train.append(cost_train)\n",
    "            # computing dev cost\n",
    "            dev_splits = np.array_split(np.arange(images_dev.shape[0]),images_dev.shape[0]/batch_size)\n",
    "            cost_dev=0.\n",
    "            # will divide into samples to minimize mamory usage\n",
    "            samples = np.array_split(np.arange(n_dev),n_dev/16)\n",
    "            for sample in samples:\n",
    "                cost_dev += sess.run(cost, feed_dict={X:images_dev[sample],Y:labels_dev[sample]})/(n_dev/16)\n",
    "            costs_dev.append(cost_dev)\n",
    "            # saver\n",
    "            if cost_dev < cost_dev_best:\n",
    "                saver.save(sess,\"./save_best\")\n",
    "                cost_dev_best = cost_dev\n",
    "            # print output\n",
    "            if not epoch%print_every:\n",
    "                print(\"Epoch {}: train cost = {:6.4f}, dev cost = {:6.4f}\".format(epoch,cost_train,cost_dev))\n",
    "        return costs_train, costs_dev"
   ]
  },
  {
   "cell_type": "markdown",
   "metadata": {},
   "source": [
    "Run Lola run!"
   ]
  },
  {
   "cell_type": "code",
   "execution_count": 15,
   "metadata": {},
   "outputs": [
    {
     "name": "stdout",
     "output_type": "stream",
     "text": [
      "Epoch 0: train cost = 0.6937, dev cost = 0.6451\n",
      "Epoch 1: train cost = 0.6919, dev cost = 0.6436\n",
      "Epoch 2: train cost = 0.6907, dev cost = 0.6424\n",
      "Epoch 3: train cost = 0.6893, dev cost = 0.6417\n",
      "Epoch 4: train cost = 0.6884, dev cost = 0.6411\n",
      "Epoch 5: train cost = 0.6874, dev cost = 0.6404\n",
      "Epoch 6: train cost = 0.6864, dev cost = 0.6394\n",
      "Epoch 7: train cost = 0.6859, dev cost = 0.6387\n",
      "Epoch 8: train cost = 0.6849, dev cost = 0.6383\n",
      "Epoch 9: train cost = 0.6837, dev cost = 0.6378\n",
      "Epoch 10: train cost = 0.6830, dev cost = 0.6372\n",
      "Wall time: 1min 50s\n"
     ]
    }
   ],
   "source": [
    "%%time\n",
    "tf.reset_default_graph()\n",
    "# f1 = filter 1 size, c1 = number of channels (filters), p1 = size of pooling\n",
    "hparams = {\"f1\":5, \"c1\":10, \"p1\":4,\n",
    "           \"f2\":3, \"c2\":20, \"p2\":2,\n",
    "           \"epochs\":10,\n",
    "           \"learning_rate\":1.e-5, \n",
    "           \"batch_size\":4}\n",
    "costs_train, costs_dev = model_trainer(hparams, print_every=1)"
   ]
  },
  {
   "cell_type": "markdown",
   "metadata": {},
   "source": [
    "Using saved values to predict and calculate accuracy."
   ]
  },
  {
   "cell_type": "code",
   "execution_count": 16,
   "metadata": {
    "collapsed": true
   },
   "outputs": [],
   "source": [
    "def metrics(hparams,\n",
    "            images_train = images_train, # same as before: tread lightly\n",
    "            labels_train = labels_train,\n",
    "            images_dev = images_dev,\n",
    "            labels_dev = labels_dev):\n",
    "    # Function to calculate the predicted values and the accuracies on the dataset.\n",
    "    # determining cparams\n",
    "    cparams = {\"hin\":images_train.shape[1], \n",
    "               \"win\":images_train.shape[2], \n",
    "               \"nout\":labels_train.shape[1]}\n",
    "    # This function uses a tensorflow graph instead of numpy\n",
    "    tf.reset_default_graph()\n",
    "    with tf.Session() as sess:\n",
    "        # building the same model used in prediction\n",
    "        X,Y,logits,cost = model_builder(cparams,hparams)\n",
    "        # loading the weights and biases that rendered the smallest dev error\n",
    "        saver = tf.train.Saver()\n",
    "        saver.restore(sess,\"./save_best\")\n",
    "        # Building the graphs to calculate pred and accuracy\n",
    "        pred = tf.sigmoid(logits)\n",
    "        n_train = images_train.shape[0]\n",
    "        n_dev = images_dev.shape[0]\n",
    "        # iterating over the train set\n",
    "        cost_train = 0.\n",
    "        splits = np.array_split(np.arange(n_train),n_train//16)\n",
    "        pred_train = np.zeros([n_train,1])\n",
    "        for split in splits:\n",
    "            # calculating the train cost again\n",
    "            cost_train += sess.run(cost, feed_dict={X:images_train[split],Y:labels_train[split]})/(n_train/16)\n",
    "            pred_train[split] = sess.run(pred, feed_dict={X:images_train[split],Y:labels_train[split]})\n",
    "        # iterating on the dev set\n",
    "        cost_dev = 0.\n",
    "        pred_dev = np.zeros([n_dev,1])\n",
    "        splits = np.array_split(np.arange(n_dev),n_dev//16)\n",
    "        for split in splits:\n",
    "            # calculating the dev cost again.\n",
    "            cost_dev += sess.run(cost, feed_dict={X:images_dev[split],Y:labels_dev[split]})/(n_dev/16)\n",
    "            pred_dev[split] = sess.run(pred,feed_dict={X:images_dev[split],Y:labels_dev[split]})\n",
    "    # using numpy for less verbosity\n",
    "    acc_train = np.mean(np.equal(np.greater(pred_train,0.5).astype(int),labels_train))\n",
    "    acc_dev = np.mean(np.equal(np.greater(pred_dev,0.5).astype(int),labels_dev))\n",
    "    return cost_train,cost_dev,pred_train,pred_dev,acc_train,acc_dev"
   ]
  },
  {
   "cell_type": "code",
   "execution_count": 17,
   "metadata": {},
   "outputs": [
    {
     "name": "stdout",
     "output_type": "stream",
     "text": [
      "INFO:tensorflow:Restoring parameters from ./save_best\n",
      "At dev cost = 0.6372: Accuracy train = 0.6736, Accuracy dev = 0.5702\n"
     ]
    }
   ],
   "source": [
    "cost_train,cost_dev,pred_train,pred_dev,acc_train,acc_dev = metrics(hparams)\n",
    "print(\"At dev cost = {:6.4f}: Accuracy train = {:6.4f}, Accuracy dev = {:6.4f}\".format(cost_dev,acc_train,acc_dev))"
   ]
  },
  {
   "cell_type": "code",
   "execution_count": 18,
   "metadata": {},
   "outputs": [
    {
     "data": {
      "image/png": "[encoded data removed]",
      "text/plain": [
       "<matplotlib.figure.Figure at 0x2d6da6f30f0>"
      ]
     },
     "metadata": {},
     "output_type": "display_data"
    }
   ],
   "source": [
    "train_curve, = plt.plot(costs_train, label = 'Train error')\n",
    "test_curve,  = plt.plot(costs_dev, label = 'Dev error')\n",
    "plt.legend(handles=[train_curve,test_curve])\n",
    "plt.xlabel('Epochs')\n",
    "plt.ylabel('Mean log loss')\n",
    "plt.show()"
   ]
  },
  {
   "cell_type": "markdown",
   "metadata": {},
   "source": [
    "Just by increasing the number of layers, and obviously using the artifacts available on CNN, the model was 2% higher in accuracy and the dev error decreased considerably.  Funny thing is that there are 1000 times less parameters (7.701) than shallow NN (7.864.800). "
   ]
  },
  {
   "cell_type": "markdown",
   "metadata": {},
   "source": [
    "As fun as it is to create models using tensorflow, we will switch to keras. Although tensorflow is a bit faster, we can build models with less lines and iterate quickly through various approaches. We will draw inspiration from major modelling techniques like: AlexNet, VGG, Googlenet and even make moonshots to ResNeXt."
   ]
  },
  {
   "cell_type": "markdown",
   "metadata": {},
   "source": [
    "### AlexNet-like\n",
    "[AlexNet](https://papers.nips.cc/paper/4824-imagenet-classification-with-deep-convolutional-neural-networks.pdf) is the pioneer deep learning architecture. Developed by Alex Krizhevsky, Ilya Sutskever and the godfather of Deep Learning, Geofrey Hinton, this algorithm won the ILSVR 2012 competition by a large marging, proving that deep learning was the top technique for image classification and localization.\n",
    "\n",
    "Alexnet hidden layer architecture is made of eight layers, five convolutional and two fully connected with the following characteristic:\n",
    "* 96 kernels (filters) of size 11x11x3 with a stride of 4 pixels;\n",
    "    * Response normalization\n",
    "    * Pooling (size 3, stride 2)\n",
    "* 256 kernels of size 5x5x96\n",
    "    * Response normalization\n",
    "    * Pooling (size 3, stride 2)\n",
    "* 384 kernels of size 3x3x256\n",
    "* 384 kernels of size 3x3x384\n",
    "* 256 kernels of size 3x3x384\n",
    "* Two consecutive fully connected layers with 4096 neurons each\n",
    "    * With dropout rate of 0.5\n",
    "\n",
    "Our problem differs from the original problem it solves in two aspects. First, the input images were 224x224x3 pixels, while our problem images are 128x128x3 pixels. Second, the original problem was a classification with 1000 possible classes, therefore, the output layer has 1000 neurons. In our problem, there are only 2 possible outputs, therefore, our output layer has only 1 neuron.\n",
    "Therefore, we will build a similar architecture considering the difference between both problems."
   ]
  },
  {
   "cell_type": "code",
   "execution_count": 4,
   "metadata": {},
   "outputs": [
    {
     "name": "stderr",
     "output_type": "stream",
     "text": [
      "Using TensorFlow backend.\n"
     ]
    }
   ],
   "source": [
    "from keras.models import Sequential\n",
    "from keras.layers import Conv2D, MaxPooling2D, BatchNormalization\n",
    "from keras.layers import Dense, Dropout, Flatten, Activation"
   ]
  },
  {
   "cell_type": "code",
   "execution_count": 5,
   "metadata": {},
   "outputs": [
    {
     "name": "stdout",
     "output_type": "stream",
     "text": [
      "WARNING:tensorflow:From C:\\Users\\Hermes\\Anaconda3\\lib\\site-packages\\keras\\backend\\tensorflow_backend.py:1205: calling reduce_prod (from tensorflow.python.ops.math_ops) with keep_dims is deprecated and will be removed in a future version.\n",
      "Instructions for updating:\n",
      "keep_dims is deprecated, use keepdims instead\n",
      "WARNING:tensorflow:From C:\\Users\\Hermes\\Anaconda3\\lib\\site-packages\\keras\\backend\\tensorflow_backend.py:1290: calling reduce_mean (from tensorflow.python.ops.math_ops) with keep_dims is deprecated and will be removed in a future version.\n",
      "Instructions for updating:\n",
      "keep_dims is deprecated, use keepdims instead\n"
     ]
    }
   ],
   "source": [
    "model = Sequential()\n",
    "# LAYER 1\n",
    "# The actual model used padding = 3. Will use sequential model with padding=\"same\"\n",
    "model.add(Conv2D(96,11,strides=(4,4),padding='same',input_shape=(128,128,3)))\n",
    "model.add(BatchNormalization())\n",
    "model.add(Activation('relu'))\n",
    "model.add(MaxPooling2D(3,2))\n",
    "# LAYER 2\n",
    "model.add(Conv2D(256,5,padding='same'))\n",
    "model.add(BatchNormalization())\n",
    "model.add(Activation('relu'))\n",
    "model.add(MaxPooling2D(3,2))\n",
    "# LAYER 3\n",
    "model.add(Conv2D(384,3,padding='same'))\n",
    "model.add(Activation('relu'))\n",
    "# LAYER 4\n",
    "model.add(Conv2D(384,3,padding='same'))\n",
    "model.add(Activation('relu'))\n",
    "# LAYER 5\n",
    "model.add(Conv2D(256,3,padding='same'))\n",
    "model.add(Activation('relu'))\n",
    "# LAYER 6\n",
    "model.add(Flatten())\n",
    "model.add(Dense(4096))\n",
    "# LAYER 7\n",
    "model.add(Dense(4096))\n",
    "# OUTPUT\n",
    "model.add(Dense(1))\n",
    "\n",
    "model.compile(optimizer='adam',\n",
    "              loss='binary_crossentropy',\n",
    "              metrics=['accuracy'])"
   ]
  },
  {
   "cell_type": "code",
   "execution_count": 6,
   "metadata": {},
   "outputs": [
    {
     "name": "stdout",
     "output_type": "stream",
     "text": [
      "Epoch 1/2\n",
      "128/484 [======>.......................] - ETA: 143s - loss: 8.0590 - acc: 0.0938"
     ]
    },
    {
     "ename": "KeyboardInterrupt",
     "evalue": "",
     "output_type": "error",
     "traceback": [
      "\u001b[1;31m---------------------------------------------------------------------------\u001b[0m",
      "\u001b[1;31mKeyboardInterrupt\u001b[0m                         Traceback (most recent call last)",
      "\u001b[1;32m<ipython-input-6-49dd490f6bf5>\u001b[0m in \u001b[0;36m<module>\u001b[1;34m()\u001b[0m\n\u001b[1;32m----> 1\u001b[1;33m \u001b[0mmodel\u001b[0m\u001b[1;33m.\u001b[0m\u001b[0mfit\u001b[0m\u001b[1;33m(\u001b[0m\u001b[0mimages_train\u001b[0m\u001b[1;33m,\u001b[0m \u001b[0mlabels_train\u001b[0m\u001b[1;33m,\u001b[0m \u001b[0mepochs\u001b[0m\u001b[1;33m=\u001b[0m\u001b[1;36m2\u001b[0m\u001b[1;33m,\u001b[0m \u001b[0mbatch_size\u001b[0m\u001b[1;33m=\u001b[0m\u001b[1;36m4\u001b[0m\u001b[1;33m)\u001b[0m\u001b[1;33m\u001b[0m\u001b[0m\n\u001b[0m",
      "\u001b[1;32m~\\Anaconda3\\lib\\site-packages\\keras\\models.py\u001b[0m in \u001b[0;36mfit\u001b[1;34m(self, x, y, batch_size, epochs, verbose, callbacks, validation_split, validation_data, shuffle, class_weight, sample_weight, initial_epoch, **kwargs)\u001b[0m\n\u001b[0;32m    865\u001b[0m                               \u001b[0mclass_weight\u001b[0m\u001b[1;33m=\u001b[0m\u001b[0mclass_weight\u001b[0m\u001b[1;33m,\u001b[0m\u001b[1;33m\u001b[0m\u001b[0m\n\u001b[0;32m    866\u001b[0m                               \u001b[0msample_weight\u001b[0m\u001b[1;33m=\u001b[0m\u001b[0msample_weight\u001b[0m\u001b[1;33m,\u001b[0m\u001b[1;33m\u001b[0m\u001b[0m\n\u001b[1;32m--> 867\u001b[1;33m                               initial_epoch=initial_epoch)\n\u001b[0m\u001b[0;32m    868\u001b[0m \u001b[1;33m\u001b[0m\u001b[0m\n\u001b[0;32m    869\u001b[0m     def evaluate(self, x, y, batch_size=32, verbose=1,\n",
      "\u001b[1;32m~\\Anaconda3\\lib\\site-packages\\keras\\engine\\training.py\u001b[0m in \u001b[0;36mfit\u001b[1;34m(self, x, y, batch_size, epochs, verbose, callbacks, validation_split, validation_data, shuffle, class_weight, sample_weight, initial_epoch, steps_per_epoch, validation_steps, **kwargs)\u001b[0m\n\u001b[0;32m   1596\u001b[0m                               \u001b[0minitial_epoch\u001b[0m\u001b[1;33m=\u001b[0m\u001b[0minitial_epoch\u001b[0m\u001b[1;33m,\u001b[0m\u001b[1;33m\u001b[0m\u001b[0m\n\u001b[0;32m   1597\u001b[0m                               \u001b[0msteps_per_epoch\u001b[0m\u001b[1;33m=\u001b[0m\u001b[0msteps_per_epoch\u001b[0m\u001b[1;33m,\u001b[0m\u001b[1;33m\u001b[0m\u001b[0m\n\u001b[1;32m-> 1598\u001b[1;33m                               validation_steps=validation_steps)\n\u001b[0m\u001b[0;32m   1599\u001b[0m \u001b[1;33m\u001b[0m\u001b[0m\n\u001b[0;32m   1600\u001b[0m     def evaluate(self, x, y,\n",
      "\u001b[1;32m~\\Anaconda3\\lib\\site-packages\\keras\\engine\\training.py\u001b[0m in \u001b[0;36m_fit_loop\u001b[1;34m(self, f, ins, out_labels, batch_size, epochs, verbose, callbacks, val_f, val_ins, shuffle, callback_metrics, initial_epoch, steps_per_epoch, validation_steps)\u001b[0m\n\u001b[0;32m   1181\u001b[0m                     \u001b[0mbatch_logs\u001b[0m\u001b[1;33m[\u001b[0m\u001b[1;34m'size'\u001b[0m\u001b[1;33m]\u001b[0m \u001b[1;33m=\u001b[0m \u001b[0mlen\u001b[0m\u001b[1;33m(\u001b[0m\u001b[0mbatch_ids\u001b[0m\u001b[1;33m)\u001b[0m\u001b[1;33m\u001b[0m\u001b[0m\n\u001b[0;32m   1182\u001b[0m                     \u001b[0mcallbacks\u001b[0m\u001b[1;33m.\u001b[0m\u001b[0mon_batch_begin\u001b[0m\u001b[1;33m(\u001b[0m\u001b[0mbatch_index\u001b[0m\u001b[1;33m,\u001b[0m \u001b[0mbatch_logs\u001b[0m\u001b[1;33m)\u001b[0m\u001b[1;33m\u001b[0m\u001b[0m\n\u001b[1;32m-> 1183\u001b[1;33m                     \u001b[0mouts\u001b[0m \u001b[1;33m=\u001b[0m \u001b[0mf\u001b[0m\u001b[1;33m(\u001b[0m\u001b[0mins_batch\u001b[0m\u001b[1;33m)\u001b[0m\u001b[1;33m\u001b[0m\u001b[0m\n\u001b[0m\u001b[0;32m   1184\u001b[0m                     \u001b[1;32mif\u001b[0m \u001b[1;32mnot\u001b[0m \u001b[0misinstance\u001b[0m\u001b[1;33m(\u001b[0m\u001b[0mouts\u001b[0m\u001b[1;33m,\u001b[0m \u001b[0mlist\u001b[0m\u001b[1;33m)\u001b[0m\u001b[1;33m:\u001b[0m\u001b[1;33m\u001b[0m\u001b[0m\n\u001b[0;32m   1185\u001b[0m                         \u001b[0mouts\u001b[0m \u001b[1;33m=\u001b[0m \u001b[1;33m[\u001b[0m\u001b[0mouts\u001b[0m\u001b[1;33m]\u001b[0m\u001b[1;33m\u001b[0m\u001b[0m\n",
      "\u001b[1;32m~\\Anaconda3\\lib\\site-packages\\keras\\backend\\tensorflow_backend.py\u001b[0m in \u001b[0;36m__call__\u001b[1;34m(self, inputs)\u001b[0m\n\u001b[0;32m   2271\u001b[0m         updated = session.run(self.outputs + [self.updates_op],\n\u001b[0;32m   2272\u001b[0m                               \u001b[0mfeed_dict\u001b[0m\u001b[1;33m=\u001b[0m\u001b[0mfeed_dict\u001b[0m\u001b[1;33m,\u001b[0m\u001b[1;33m\u001b[0m\u001b[0m\n\u001b[1;32m-> 2273\u001b[1;33m                               **self.session_kwargs)\n\u001b[0m\u001b[0;32m   2274\u001b[0m         \u001b[1;32mreturn\u001b[0m \u001b[0mupdated\u001b[0m\u001b[1;33m[\u001b[0m\u001b[1;33m:\u001b[0m\u001b[0mlen\u001b[0m\u001b[1;33m(\u001b[0m\u001b[0mself\u001b[0m\u001b[1;33m.\u001b[0m\u001b[0moutputs\u001b[0m\u001b[1;33m)\u001b[0m\u001b[1;33m]\u001b[0m\u001b[1;33m\u001b[0m\u001b[0m\n\u001b[0;32m   2275\u001b[0m \u001b[1;33m\u001b[0m\u001b[0m\n",
      "\u001b[1;32m~\\Anaconda3\\lib\\site-packages\\tensorflow\\python\\client\\session.py\u001b[0m in \u001b[0;36mrun\u001b[1;34m(self, fetches, feed_dict, options, run_metadata)\u001b[0m\n\u001b[0;32m    898\u001b[0m     \u001b[1;32mtry\u001b[0m\u001b[1;33m:\u001b[0m\u001b[1;33m\u001b[0m\u001b[0m\n\u001b[0;32m    899\u001b[0m       result = self._run(None, fetches, feed_dict, options_ptr,\n\u001b[1;32m--> 900\u001b[1;33m                          run_metadata_ptr)\n\u001b[0m\u001b[0;32m    901\u001b[0m       \u001b[1;32mif\u001b[0m \u001b[0mrun_metadata\u001b[0m\u001b[1;33m:\u001b[0m\u001b[1;33m\u001b[0m\u001b[0m\n\u001b[0;32m    902\u001b[0m         \u001b[0mproto_data\u001b[0m \u001b[1;33m=\u001b[0m \u001b[0mtf_session\u001b[0m\u001b[1;33m.\u001b[0m\u001b[0mTF_GetBuffer\u001b[0m\u001b[1;33m(\u001b[0m\u001b[0mrun_metadata_ptr\u001b[0m\u001b[1;33m)\u001b[0m\u001b[1;33m\u001b[0m\u001b[0m\n",
      "\u001b[1;32m~\\Anaconda3\\lib\\site-packages\\tensorflow\\python\\client\\session.py\u001b[0m in \u001b[0;36m_run\u001b[1;34m(self, handle, fetches, feed_dict, options, run_metadata)\u001b[0m\n\u001b[0;32m   1133\u001b[0m     \u001b[1;32mif\u001b[0m \u001b[0mfinal_fetches\u001b[0m \u001b[1;32mor\u001b[0m \u001b[0mfinal_targets\u001b[0m \u001b[1;32mor\u001b[0m \u001b[1;33m(\u001b[0m\u001b[0mhandle\u001b[0m \u001b[1;32mand\u001b[0m \u001b[0mfeed_dict_tensor\u001b[0m\u001b[1;33m)\u001b[0m\u001b[1;33m:\u001b[0m\u001b[1;33m\u001b[0m\u001b[0m\n\u001b[0;32m   1134\u001b[0m       results = self._do_run(handle, final_targets, final_fetches,\n\u001b[1;32m-> 1135\u001b[1;33m                              feed_dict_tensor, options, run_metadata)\n\u001b[0m\u001b[0;32m   1136\u001b[0m     \u001b[1;32melse\u001b[0m\u001b[1;33m:\u001b[0m\u001b[1;33m\u001b[0m\u001b[0m\n\u001b[0;32m   1137\u001b[0m       \u001b[0mresults\u001b[0m \u001b[1;33m=\u001b[0m \u001b[1;33m[\u001b[0m\u001b[1;33m]\u001b[0m\u001b[1;33m\u001b[0m\u001b[0m\n",
      "\u001b[1;32m~\\Anaconda3\\lib\\site-packages\\tensorflow\\python\\client\\session.py\u001b[0m in \u001b[0;36m_do_run\u001b[1;34m(self, handle, target_list, fetch_list, feed_dict, options, run_metadata)\u001b[0m\n\u001b[0;32m   1314\u001b[0m     \u001b[1;32mif\u001b[0m \u001b[0mhandle\u001b[0m \u001b[1;32mis\u001b[0m \u001b[1;32mNone\u001b[0m\u001b[1;33m:\u001b[0m\u001b[1;33m\u001b[0m\u001b[0m\n\u001b[0;32m   1315\u001b[0m       return self._do_call(_run_fn, feeds, fetches, targets, options,\n\u001b[1;32m-> 1316\u001b[1;33m                            run_metadata)\n\u001b[0m\u001b[0;32m   1317\u001b[0m     \u001b[1;32melse\u001b[0m\u001b[1;33m:\u001b[0m\u001b[1;33m\u001b[0m\u001b[0m\n\u001b[0;32m   1318\u001b[0m       \u001b[1;32mreturn\u001b[0m \u001b[0mself\u001b[0m\u001b[1;33m.\u001b[0m\u001b[0m_do_call\u001b[0m\u001b[1;33m(\u001b[0m\u001b[0m_prun_fn\u001b[0m\u001b[1;33m,\u001b[0m \u001b[0mhandle\u001b[0m\u001b[1;33m,\u001b[0m \u001b[0mfeeds\u001b[0m\u001b[1;33m,\u001b[0m \u001b[0mfetches\u001b[0m\u001b[1;33m)\u001b[0m\u001b[1;33m\u001b[0m\u001b[0m\n",
      "\u001b[1;32m~\\Anaconda3\\lib\\site-packages\\tensorflow\\python\\client\\session.py\u001b[0m in \u001b[0;36m_do_call\u001b[1;34m(self, fn, *args)\u001b[0m\n\u001b[0;32m   1320\u001b[0m   \u001b[1;32mdef\u001b[0m \u001b[0m_do_call\u001b[0m\u001b[1;33m(\u001b[0m\u001b[0mself\u001b[0m\u001b[1;33m,\u001b[0m \u001b[0mfn\u001b[0m\u001b[1;33m,\u001b[0m \u001b[1;33m*\u001b[0m\u001b[0margs\u001b[0m\u001b[1;33m)\u001b[0m\u001b[1;33m:\u001b[0m\u001b[1;33m\u001b[0m\u001b[0m\n\u001b[0;32m   1321\u001b[0m     \u001b[1;32mtry\u001b[0m\u001b[1;33m:\u001b[0m\u001b[1;33m\u001b[0m\u001b[0m\n\u001b[1;32m-> 1322\u001b[1;33m       \u001b[1;32mreturn\u001b[0m \u001b[0mfn\u001b[0m\u001b[1;33m(\u001b[0m\u001b[1;33m*\u001b[0m\u001b[0margs\u001b[0m\u001b[1;33m)\u001b[0m\u001b[1;33m\u001b[0m\u001b[0m\n\u001b[0m\u001b[0;32m   1323\u001b[0m     \u001b[1;32mexcept\u001b[0m \u001b[0merrors\u001b[0m\u001b[1;33m.\u001b[0m\u001b[0mOpError\u001b[0m \u001b[1;32mas\u001b[0m \u001b[0me\u001b[0m\u001b[1;33m:\u001b[0m\u001b[1;33m\u001b[0m\u001b[0m\n\u001b[0;32m   1324\u001b[0m       \u001b[0mmessage\u001b[0m \u001b[1;33m=\u001b[0m \u001b[0mcompat\u001b[0m\u001b[1;33m.\u001b[0m\u001b[0mas_text\u001b[0m\u001b[1;33m(\u001b[0m\u001b[0me\u001b[0m\u001b[1;33m.\u001b[0m\u001b[0mmessage\u001b[0m\u001b[1;33m)\u001b[0m\u001b[1;33m\u001b[0m\u001b[0m\n",
      "\u001b[1;32m~\\Anaconda3\\lib\\site-packages\\tensorflow\\python\\client\\session.py\u001b[0m in \u001b[0;36m_run_fn\u001b[1;34m(feed_dict, fetch_list, target_list, options, run_metadata)\u001b[0m\n\u001b[0;32m   1305\u001b[0m       \u001b[0mself\u001b[0m\u001b[1;33m.\u001b[0m\u001b[0m_extend_graph\u001b[0m\u001b[1;33m(\u001b[0m\u001b[1;33m)\u001b[0m\u001b[1;33m\u001b[0m\u001b[0m\n\u001b[0;32m   1306\u001b[0m       return self._call_tf_sessionrun(\n\u001b[1;32m-> 1307\u001b[1;33m           options, feed_dict, fetch_list, target_list, run_metadata)\n\u001b[0m\u001b[0;32m   1308\u001b[0m \u001b[1;33m\u001b[0m\u001b[0m\n\u001b[0;32m   1309\u001b[0m     \u001b[1;32mdef\u001b[0m \u001b[0m_prun_fn\u001b[0m\u001b[1;33m(\u001b[0m\u001b[0mhandle\u001b[0m\u001b[1;33m,\u001b[0m \u001b[0mfeed_dict\u001b[0m\u001b[1;33m,\u001b[0m \u001b[0mfetch_list\u001b[0m\u001b[1;33m)\u001b[0m\u001b[1;33m:\u001b[0m\u001b[1;33m\u001b[0m\u001b[0m\n",
      "\u001b[1;32m~\\Anaconda3\\lib\\site-packages\\tensorflow\\python\\client\\session.py\u001b[0m in \u001b[0;36m_call_tf_sessionrun\u001b[1;34m(self, options, feed_dict, fetch_list, target_list, run_metadata)\u001b[0m\n\u001b[0;32m   1407\u001b[0m       return tf_session.TF_SessionRun_wrapper(\n\u001b[0;32m   1408\u001b[0m           \u001b[0mself\u001b[0m\u001b[1;33m.\u001b[0m\u001b[0m_session\u001b[0m\u001b[1;33m,\u001b[0m \u001b[0moptions\u001b[0m\u001b[1;33m,\u001b[0m \u001b[0mfeed_dict\u001b[0m\u001b[1;33m,\u001b[0m \u001b[0mfetch_list\u001b[0m\u001b[1;33m,\u001b[0m \u001b[0mtarget_list\u001b[0m\u001b[1;33m,\u001b[0m\u001b[1;33m\u001b[0m\u001b[0m\n\u001b[1;32m-> 1409\u001b[1;33m           run_metadata)\n\u001b[0m\u001b[0;32m   1410\u001b[0m     \u001b[1;32melse\u001b[0m\u001b[1;33m:\u001b[0m\u001b[1;33m\u001b[0m\u001b[0m\n\u001b[0;32m   1411\u001b[0m       \u001b[1;32mwith\u001b[0m \u001b[0merrors\u001b[0m\u001b[1;33m.\u001b[0m\u001b[0mraise_exception_on_not_ok_status\u001b[0m\u001b[1;33m(\u001b[0m\u001b[1;33m)\u001b[0m \u001b[1;32mas\u001b[0m \u001b[0mstatus\u001b[0m\u001b[1;33m:\u001b[0m\u001b[1;33m\u001b[0m\u001b[0m\n",
      "\u001b[1;31mKeyboardInterrupt\u001b[0m: "
     ]
    }
   ],
   "source": [
    "model.fit(images_train, labels_train, epochs=2, batch_size=4)"
   ]
  },
  {
   "cell_type": "code",
   "execution_count": null,
   "metadata": {
    "collapsed": true
   },
   "outputs": [],
   "source": [
    "score = model.evaluate(images_dev, labels_dev)"
   ]
  }
 ],
 "metadata": {
  "colab": {
   "collapsed_sections": [],
   "default_view": {},
   "name": "3-DeepSnakes-CNN",
   "provenance": [],
   "version": "0.3.2",
   "views": {}
  },
  "kernelspec": {
   "display_name": "Python 3",
   "language": "python",
   "name": "python3"
  },
  "language_info": {
   "codemirror_mode": {
    "name": "ipython",
    "version": 3
   },
   "file_extension": ".py",
   "mimetype": "text/x-python",
   "name": "python",
   "nbconvert_exporter": "python",
   "pygments_lexer": "ipython3",
   "version": "3.6.3"
  },
  "toc": {
   "nav_menu": {},
   "number_sections": true,
   "sideBar": true,
   "skip_h1_title": false,
   "toc_cell": false,
   "toc_position": {},
   "toc_section_display": "none",
   "toc_window_display": false
  }
 },
 "nbformat": 4,
 "nbformat_minor": 1
}
